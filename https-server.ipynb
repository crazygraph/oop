{
 "cells": [
  {
   "cell_type": "code",
   "execution_count": null,
   "metadata": {},
   "outputs": [
    {
     "name": "stderr",
     "output_type": "stream",
     "text": [
      "127.0.0.1 - - [16/Sep/2019 09:37:20] code 501, message Unsupported method ('GET')\n",
      "127.0.0.1 - - [16/Sep/2019 09:37:20] \"GET / HTTP/1.1\" 501 -\n",
      "127.0.0.1 - - [16/Sep/2019 09:37:20] code 501, message Unsupported method ('GET')\n",
      "127.0.0.1 - - [16/Sep/2019 09:37:20] \"GET /favicon.ico HTTP/1.1\" 501 -\n"
     ]
    }
   ],
   "source": [
    "from http.server import HTTPServer, BaseHTTPRequestHandler\n",
    "import ssl\n",
    "\n",
    "httpd = HTTPServer(('localhost', 4443), BaseHTTPRequestHandler)\n",
    "httpd.socket = ssl.wrap_socket(httpd.socket, certfile=\"./server.pem\", server_side=True)\n",
    "httpd.serve_forever()"
   ]
  },
  {
   "cell_type": "code",
   "execution_count": null,
   "metadata": {},
   "outputs": [],
   "source": []
  }
 ],
 "metadata": {
  "kernelspec": {
   "display_name": "Python 3",
   "language": "python",
   "name": "python3"
  },
  "language_info": {
   "codemirror_mode": {
    "name": "ipython",
    "version": 3
   },
   "file_extension": ".py",
   "mimetype": "text/x-python",
   "name": "python",
   "nbconvert_exporter": "python",
   "pygments_lexer": "ipython3",
   "version": "3.6.4"
  }
 },
 "nbformat": 4,
 "nbformat_minor": 2
}

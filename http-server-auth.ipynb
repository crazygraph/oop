{
 "cells": [
  {
   "cell_type": "code",
   "execution_count": null,
   "metadata": {},
   "outputs": [
    {
     "name": "stdout",
     "output_type": "stream",
     "text": [
      "started httpd...\n"
     ]
    },
    {
     "name": "stderr",
     "output_type": "stream",
     "text": [
      "127.0.0.1 - - [09/Sep/2019 10:22:16] \"GET / HTTP/1.1\" 401 -\n",
      "127.0.0.1 - - [09/Sep/2019 10:22:16] \"GET / HTTP/1.1\" 401 -\n",
      "127.0.0.1 - - [09/Sep/2019 10:23:06] \"GET / HTTP/1.1\" 401 -\n",
      "127.0.0.1 - - [09/Sep/2019 10:24:47] \"GET / HTTP/1.1\" 401 -\n",
      "127.0.0.1 - - [09/Sep/2019 10:24:47] \"GET /favicon.ico HTTP/1.1\" 401 -\n",
      "127.0.0.1 - - [09/Sep/2019 10:24:47] \"GET /favicon.ico HTTP/1.1\" 401 -\n",
      "127.0.0.1 - - [09/Sep/2019 10:25:57] \"GET / HTTP/1.1\" 401 -\n",
      "127.0.0.1 - - [09/Sep/2019 10:35:44] \"GET / HTTP/1.1\" 200 -\n",
      "127.0.0.1 - - [09/Sep/2019 10:35:48] \"GET / HTTP/1.1\" 200 -\n",
      "127.0.0.1 - - [09/Sep/2019 10:36:03] code 501, message Unsupported method ('POST')\n",
      "127.0.0.1 - - [09/Sep/2019 10:36:03] \"POST / HTTP/1.1\" 501 -\n",
      "127.0.0.1 - - [09/Sep/2019 10:36:05] code 501, message Unsupported method ('POST')\n",
      "127.0.0.1 - - [09/Sep/2019 10:36:05] \"POST / HTTP/1.1\" 501 -\n",
      "127.0.0.1 - - [09/Sep/2019 10:36:12] \"GET / HTTP/1.1\" 200 -\n",
      "127.0.0.1 - - [09/Sep/2019 10:36:14] \"GET / HTTP/1.1\" 200 -\n",
      "127.0.0.1 - - [09/Sep/2019 10:36:19] \"GET / HTTP/1.1\" 401 -\n",
      "127.0.0.1 - - [09/Sep/2019 10:36:21] \"GET / HTTP/1.1\" 401 -\n",
      "127.0.0.1 - - [09/Sep/2019 10:36:22] \"GET / HTTP/1.1\" 401 -\n",
      "127.0.0.1 - - [09/Sep/2019 10:36:36] \"GET / HTTP/1.1\" 200 -\n",
      "127.0.0.1 - - [09/Sep/2019 10:38:00] \"GET / HTTP/1.1\" 401 -\n",
      "127.0.0.1 - - [09/Sep/2019 10:38:04] \"GET /favicon.ico HTTP/1.1\" 401 -\n",
      "127.0.0.1 - - [09/Sep/2019 10:41:21] \"GET / HTTP/1.1\" 200 -\n",
      "127.0.0.1 - - [09/Sep/2019 12:09:51] \"GET / HTTP/1.1\" 401 -\n",
      "127.0.0.1 - - [09/Sep/2019 12:10:03] \"GET / HTTP/1.1\" 401 -\n",
      "127.0.0.1 - - [09/Sep/2019 12:10:05] \"GET /favicon.ico HTTP/1.1\" 401 -\n"
     ]
    }
   ],
   "source": [
    "from http.server import BaseHTTPRequestHandler, HTTPServer\n",
    "\n",
    "class CustomHandler(BaseHTTPRequestHandler):\n",
    "    ''' Main class to present webpages and authentication. '''\n",
    "    def do_HEAD(self):\n",
    "        self.send_response(200)\n",
    "        self.send_header('Content-type', 'text/html')\n",
    "        self.end_headers()\n",
    "\n",
    "    def do_AUTHHEAD(self):\n",
    "        self.send_response(401)\n",
    "        self.send_header('WWW-Authenticate', 'Basic realm=\\\"Test\\\"')\n",
    "        self.send_header('Content-type', 'text/html')\n",
    "        self.end_headers()\n",
    "\n",
    "    def do_GET(self):\n",
    "        ''' Present frontpage with user authentication. '''\n",
    "        if self.headers['Authorization'] == None:\n",
    "            self.do_AUTHHEAD()\n",
    "            self.wfile.write(bytes('no auth header received', 'UTF-8'))\n",
    "            pass\n",
    "        elif self.headers['Authorization'] == 'Basic YW5vdGhlcjptZQ==':\n",
    "            self.do_HEAD()\n",
    "            self.wfile.write(bytes(self.headers['Authorization'], 'UTF-8'))\n",
    "            self.wfile.write(bytes(' authenticated!', 'UTF-8'))\n",
    "            pass\n",
    "        else:\n",
    "            self.do_AUTHHEAD()\n",
    "            self.wfile.write(bytes(self.headers['Authorization'], 'UTF-8'))\n",
    "            self.wfile.write(bytes(' not authenticated', 'UTF-8'))\n",
    "            pass\n",
    "\n",
    "def main():\n",
    "   try:\n",
    "      httpd = HTTPServer(('', 10001), CustomHandler)\n",
    "      print ('started httpd...')\n",
    "      httpd.serve_forever()\n",
    "   except KeyboardInterrupt:\n",
    "      print ('^C received, shutting down server')\n",
    "      httpd.socket.close()\n",
    "\n",
    "if __name__ == '__main__':\n",
    "    main()"
   ]
  },
  {
   "cell_type": "code",
   "execution_count": null,
   "metadata": {},
   "outputs": [],
   "source": []
  }
 ],
 "metadata": {
  "kernelspec": {
   "display_name": "Python 3",
   "language": "python",
   "name": "python3"
  },
  "language_info": {
   "codemirror_mode": {
    "name": "ipython",
    "version": 3
   },
   "file_extension": ".py",
   "mimetype": "text/x-python",
   "name": "python",
   "nbconvert_exporter": "python",
   "pygments_lexer": "ipython3",
   "version": "3.6.4"
  }
 },
 "nbformat": 4,
 "nbformat_minor": 2
}

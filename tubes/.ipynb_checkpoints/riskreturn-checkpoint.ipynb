{
 "cells": [
  {
   "cell_type": "code",
   "execution_count": 1,
   "metadata": {},
   "outputs": [],
   "source": [
    "import fxcmpy\n",
    "import pandas as pd\n",
    "import numpy as np\n",
    "import matplotlib as plt\n",
    "from datetime import datetime\n",
    "from dateutil import relativedelta\n",
    "import requests\n",
    "import json\n",
    "from pandas.io.json import json_normalize\n",
    "import dataprep as dp"
   ]
  },
  {
   "cell_type": "code",
   "execution_count": 92,
   "metadata": {},
   "outputs": [],
   "source": [
    "symbol = ['GOOG','AAPL','AMZN']\n",
    "start_date = '2014-10-01'\n",
    "end_date = '2019-11-01'\n",
    "data = dp.getAllPriceData(symbol,start_date,end_date)\n",
    "delta = relativedelta.relativedelta(datetime.strptime(end_date,'%Y-%m-%d'), datetime.strptime(start_date,'%Y-%m-%d'))\n",
    "months = delta.years*12 + delta.months"
   ]
  },
  {
   "cell_type": "code",
   "execution_count": 93,
   "metadata": {},
   "outputs": [],
   "source": [
    "def getAnnualReturn(data,months):\n",
    "    total_return = (data.iloc[-1]-data.iloc[0])/data.iloc[0]\n",
    "    annualized_return = ((1 + total_return)**(12/months))\n",
    "    return annualized_return * 100"
   ]
  },
  {
   "cell_type": "code",
   "execution_count": 94,
   "metadata": {},
   "outputs": [],
   "source": [
    "def getAnnualVolatility(data):\n",
    "    annualized_vol = data.pct_change().std() * np.sqrt(250)\n",
    "    return annualized_vol * 100"
   ]
  },
  {
   "cell_type": "code",
   "execution_count": 95,
   "metadata": {},
   "outputs": [],
   "source": [
    "def getSharpeRatio(annualized_return,rf,annualized_vol):\n",
    "    sharpe_ratio = (annualized_return - rf) / annualized_vol\n",
    "    return sharpe_ratio "
   ]
  },
  {
   "cell_type": "code",
   "execution_count": 299,
   "metadata": {},
   "outputs": [],
   "source": [
    "def getAllPricePerformance(symbols,data,start_date,end_date):\n",
    "    price = pd.DataFrame(index=symbols,columns=['annual return', 'annual risk','sharpe ratio'])\n",
    "    price['annual return'] = getAnnualReturn(data, getMonths(start_date,end_date))\n",
    "    price['annual risk'] = getAnnualVolatility(data)\n",
    "    price['sharpe ratio'] = getSharpeRatio(getAnnualReturn(data,getMonths(start_date,end_date)),0.01*100,getAnnualVolatility(data))\n",
    "    price.index.name='symbol'\n",
    "    return price.reset_index()"
   ]
  },
  {
   "cell_type": "code",
   "execution_count": 300,
   "metadata": {},
   "outputs": [],
   "source": [
    "def getMonths(start_date, end_date):\n",
    "\tdelta = relativedelta.relativedelta(datetime.strptime(end_date,'%Y-%m-%d'), datetime.strptime(start_date,'%Y-%m-%d'))\n",
    "\tmonths = delta.years*12 + delta.months\n",
    "\treturn months"
   ]
  },
  {
   "cell_type": "code",
   "execution_count": 301,
   "metadata": {},
   "outputs": [
    {
     "data": {
      "text/plain": [
       "GOOG    117.270880\n",
       "AAPL    122.546239\n",
       "AMZN    140.552530\n",
       "dtype: float64"
      ]
     },
     "execution_count": 301,
     "metadata": {},
     "output_type": "execute_result"
    }
   ],
   "source": [
    "getAnnualReturn(data,months)"
   ]
  },
  {
   "cell_type": "code",
   "execution_count": 302,
   "metadata": {},
   "outputs": [
    {
     "data": {
      "text/plain": [
       "GOOG    24.014180\n",
       "AAPL    24.777058\n",
       "AMZN    29.444374\n",
       "dtype: float64"
      ]
     },
     "execution_count": 302,
     "metadata": {},
     "output_type": "execute_result"
    }
   ],
   "source": [
    "getAnnualVolatility(data)"
   ]
  },
  {
   "cell_type": "code",
   "execution_count": 303,
   "metadata": {},
   "outputs": [
    {
     "data": {
      "text/plain": [
       "GOOG    4.841759\n",
       "AAPL    4.905596\n",
       "AMZN    4.739531\n",
       "dtype: float64"
      ]
     },
     "execution_count": 303,
     "metadata": {},
     "output_type": "execute_result"
    }
   ],
   "source": [
    "getSharpeRatio(getAnnualReturn(data,months),0.01*100,getAnnualVolatility(data))"
   ]
  },
  {
   "cell_type": "code",
   "execution_count": 310,
   "metadata": {},
   "outputs": [
    {
     "data": {
      "text/plain": [
       "{0: {'annual return': 117.27088000395831,\n",
       "  'annual risk': 24.01418008564229,\n",
       "  'sharpe ratio': 4.8417593100950755,\n",
       "  'symbol': 'GOOG'},\n",
       " 1: {'annual return': 122.54623882936325,\n",
       "  'annual risk': 24.777057596481225,\n",
       "  'sharpe ratio': 4.9055961692006935,\n",
       "  'symbol': 'AAPL'},\n",
       " 2: {'annual return': 140.55253029038585,\n",
       "  'annual risk': 29.44437370667053,\n",
       "  'sharpe ratio': 4.739531282975486,\n",
       "  'symbol': 'AMZN'}}"
      ]
     },
     "execution_count": 310,
     "metadata": {},
     "output_type": "execute_result"
    }
   ],
   "source": [
    "data2 = getAllPricePerformance(symbol,data,start_date,end_date)\n",
    "data2.to_dict(orient='index') "
   ]
  }
 ],
 "metadata": {
  "kernelspec": {
   "display_name": "Python 3",
   "language": "python",
   "name": "python3"
  },
  "language_info": {
   "codemirror_mode": {
    "name": "ipython",
    "version": 3
   },
   "file_extension": ".py",
   "mimetype": "text/x-python",
   "name": "python",
   "nbconvert_exporter": "python",
   "pygments_lexer": "ipython3",
   "version": "3.6.4"
  }
 },
 "nbformat": 4,
 "nbformat_minor": 2
}

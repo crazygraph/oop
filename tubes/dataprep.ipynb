{
 "cells": [
  {
   "cell_type": "code",
   "execution_count": 70,
   "metadata": {},
   "outputs": [],
   "source": [
    "import pandas as pd\n",
    "import numpy as np\n",
    "import matplotlib as plt\n",
    "from datetime import datetime\n",
    "from dateutil import relativedelta\n",
    "import requests\n",
    "import json\n",
    "from pandas.io.json import json_normalize\n",
    "import sqlite3\n",
    "\n",
    "cnx = sqlite3.connect('price.db')"
   ]
  },
  {
   "cell_type": "code",
   "execution_count": 71,
   "metadata": {},
   "outputs": [],
   "source": [
    "def url(symbol):\n",
    "    url = 'https://www.alphavantage.co/query?function=TIME_SERIES_DAILY_ADJUSTED&symbol='+symbol+'&outputsize=full&apikey=ZBTGX838US0G5RE2'\n",
    "    return url"
   ]
  },
  {
   "cell_type": "code",
   "execution_count": 209,
   "metadata": {},
   "outputs": [],
   "source": [
    "def checkSymbol(symbol):\n",
    "    #url = 'https://www.alphavantage.co/query?function=SYMBOL_SEARCH&keywords='+symbol+'&apikey=ZBTGX838US0G5RE2'\n",
    "    #response = requests.get(url)\n",
    "    #data = pd.DataFrame.from_dict(response.json()['bestMatches'])\n",
    "    #return data['1. symbol']\n",
    "    data = pd.read_sql('select * from symbol', cnx,index_col='index')\n",
    "    if (data.empty):\n",
    "        return 0\n",
    "    else:\n",
    "        if (data[data['symbol'] == symbol].empty):\n",
    "            return 0 \n",
    "        else:\n",
    "            return 1"
   ]
  },
  {
   "cell_type": "code",
   "execution_count": 212,
   "metadata": {},
   "outputs": [
    {
     "name": "stdout",
     "output_type": "stream",
     "text": [
      "1\n"
     ]
    }
   ],
   "source": [
    "print(checkSymbol('AAPL'))"
   ]
  },
  {
   "cell_type": "code",
   "execution_count": 72,
   "metadata": {},
   "outputs": [
    {
     "name": "stdout",
     "output_type": "stream",
     "text": [
      "https://www.alphavantage.co/query?function=TIME_SERIES_DAILY_ADJUSTED&symbol=MSFT&outputsize=full&apikey=ZBTGX838US0G5RE2\n"
     ]
    }
   ],
   "source": [
    "print(url('MSFT'))"
   ]
  },
  {
   "cell_type": "code",
   "execution_count": 110,
   "metadata": {},
   "outputs": [],
   "source": [
    "def getPriceData(symbol):\n",
    "    try:\n",
    "        price = pd.read_sql('select * from '+symbol, cnx,index_col='index')\n",
    "        return price\n",
    "    except: \n",
    "        try:\n",
    "            price = retrieveDataFromAPI(symbol)\n",
    "            price.to_sql(name=symbol, con=cnx)\n",
    "            return price\n",
    "        except:\n",
    "            return 'symbol tidak ditemukan'"
   ]
  },
  {
   "cell_type": "code",
   "execution_count": 118,
   "metadata": {},
   "outputs": [],
   "source": [
    "def retrieveDataFromAPI(symbol):\n",
    "    response = requests.get(url(symbol))\n",
    "    try:\n",
    "        timeseries = response.json()['Time Series (Daily)']\n",
    "        data = pd.DataFrame.from_dict(timeseries, orient='index')\n",
    "        data[symbol] = data['5. adjusted close'].astype(float)\n",
    "        data = data.drop(columns=['1. open','2. high','3. low','4. close','5. adjusted close','6. volume','7. dividend amount','8. split coefficient'])\n",
    "        return data\n",
    "    except:\n",
    "        return response.json()['Error Message']"
   ]
  },
  {
   "cell_type": "code",
   "execution_count": 127,
   "metadata": {},
   "outputs": [
    {
     "name": "stdout",
     "output_type": "stream",
     "text": [
      "                 GOOG\n",
      "2004-08-19    49.9827\n",
      "2004-08-20    53.9528\n",
      "2004-08-23    54.4957\n",
      "2004-08-24    52.2392\n",
      "2004-08-25    52.8021\n",
      "2004-08-26    53.7535\n",
      "2004-08-27    52.8768\n",
      "2004-08-30    50.8145\n",
      "2004-08-31    50.9939\n",
      "2004-09-01    49.9378\n",
      "2004-09-02    50.5655\n",
      "2004-09-03    49.8183\n",
      "2004-09-07    50.6003\n",
      "2004-09-08    50.9590\n",
      "2004-09-09    50.9640\n",
      "2004-09-10    52.4683\n",
      "2004-09-13    53.5493\n",
      "2004-09-14    55.5368\n",
      "2004-09-15    55.7909\n",
      "2004-09-16    56.7722\n",
      "2004-09-17    58.5256\n",
      "2004-09-20    59.4571\n",
      "2004-09-21    58.7000\n",
      "2004-09-22    58.9690\n",
      "2004-09-23    60.1844\n",
      "2004-09-24    59.6913\n",
      "2004-09-27    58.9092\n",
      "2004-09-28    63.1931\n",
      "2004-09-29    65.2953\n",
      "2004-09-30    64.5580\n",
      "...               ...\n",
      "2019-09-26  1241.3900\n",
      "2019-09-27  1225.0900\n",
      "2019-09-30  1219.0000\n",
      "2019-10-01  1205.1000\n",
      "2019-10-02  1176.6300\n",
      "2019-10-03  1187.8300\n",
      "2019-10-04  1209.0000\n",
      "2019-10-07  1207.6801\n",
      "2019-10-08  1189.1300\n",
      "2019-10-09  1202.3101\n",
      "2019-10-10  1208.6700\n",
      "2019-10-11  1215.4500\n",
      "2019-10-14  1217.1400\n",
      "2019-10-15  1243.0100\n",
      "2019-10-16  1243.6400\n",
      "2019-10-17  1253.0699\n",
      "2019-10-18  1245.4900\n",
      "2019-10-21  1246.1500\n",
      "2019-10-22  1242.8000\n",
      "2019-10-23  1259.1300\n",
      "2019-10-24  1260.9900\n",
      "2019-10-25  1265.1300\n",
      "2019-10-28  1290.0000\n",
      "2019-10-29  1262.6200\n",
      "2019-10-30  1261.2900\n",
      "2019-10-31  1260.1100\n",
      "2019-11-01  1273.7400\n",
      "2019-11-04  1291.3700\n",
      "2019-11-05  1292.0300\n",
      "2019-11-06  1291.8000\n",
      "\n",
      "[3832 rows x 1 columns]\n"
     ]
    }
   ],
   "source": [
    "print(getPriceData('GOOG'))"
   ]
  },
  {
   "cell_type": "code",
   "execution_count": 128,
   "metadata": {},
   "outputs": [
    {
     "data": {
      "text/html": [
       "<div>\n",
       "<style scoped>\n",
       "    .dataframe tbody tr th:only-of-type {\n",
       "        vertical-align: middle;\n",
       "    }\n",
       "\n",
       "    .dataframe tbody tr th {\n",
       "        vertical-align: top;\n",
       "    }\n",
       "\n",
       "    .dataframe thead th {\n",
       "        text-align: right;\n",
       "    }\n",
       "</style>\n",
       "<table border=\"1\" class=\"dataframe\">\n",
       "  <thead>\n",
       "    <tr style=\"text-align: right;\">\n",
       "      <th></th>\n",
       "      <th>GOOG</th>\n",
       "    </tr>\n",
       "    <tr>\n",
       "      <th>index</th>\n",
       "      <th></th>\n",
       "    </tr>\n",
       "  </thead>\n",
       "  <tbody>\n",
       "    <tr>\n",
       "      <th>2004-08-19</th>\n",
       "      <td>49.9827</td>\n",
       "    </tr>\n",
       "    <tr>\n",
       "      <th>2004-08-20</th>\n",
       "      <td>53.9528</td>\n",
       "    </tr>\n",
       "    <tr>\n",
       "      <th>2004-08-23</th>\n",
       "      <td>54.4957</td>\n",
       "    </tr>\n",
       "    <tr>\n",
       "      <th>2004-08-24</th>\n",
       "      <td>52.2392</td>\n",
       "    </tr>\n",
       "    <tr>\n",
       "      <th>2004-08-25</th>\n",
       "      <td>52.8021</td>\n",
       "    </tr>\n",
       "  </tbody>\n",
       "</table>\n",
       "</div>"
      ],
      "text/plain": [
       "               GOOG\n",
       "index              \n",
       "2004-08-19  49.9827\n",
       "2004-08-20  53.9528\n",
       "2004-08-23  54.4957\n",
       "2004-08-24  52.2392\n",
       "2004-08-25  52.8021"
      ]
     },
     "execution_count": 128,
     "metadata": {},
     "output_type": "execute_result"
    }
   ],
   "source": [
    "price2 = pd.read_sql('select * from GOOG', cnx,index_col='index')\n",
    "price2.head()"
   ]
  },
  {
   "cell_type": "code",
   "execution_count": 206,
   "metadata": {},
   "outputs": [],
   "source": [
    "def getAllPriceData(symbols,start_date,end_date):\n",
    "    price = pd.DataFrame()\n",
    "    for symbol in symbols:\n",
    "        if(checkSymbol(symbol) == 1):\n",
    "            price = pd.merge(price,getPriceData(symbol),how='outer',left_index=True,right_index=True)\n",
    "        else:\n",
    "            return 'symbol '+symbol+' not found'\n",
    "    price = price.loc[start_date:end_date]\n",
    "    return price"
   ]
  },
  {
   "cell_type": "code",
   "execution_count": 207,
   "metadata": {},
   "outputs": [
    {
     "data": {
      "text/html": [
       "<div>\n",
       "<style scoped>\n",
       "    .dataframe tbody tr th:only-of-type {\n",
       "        vertical-align: middle;\n",
       "    }\n",
       "\n",
       "    .dataframe tbody tr th {\n",
       "        vertical-align: top;\n",
       "    }\n",
       "\n",
       "    .dataframe thead th {\n",
       "        text-align: right;\n",
       "    }\n",
       "</style>\n",
       "<table border=\"1\" class=\"dataframe\">\n",
       "  <thead>\n",
       "    <tr style=\"text-align: right;\">\n",
       "      <th></th>\n",
       "      <th>AAPL</th>\n",
       "      <th>MSFT</th>\n",
       "      <th>GOOG</th>\n",
       "    </tr>\n",
       "    <tr>\n",
       "      <th>index</th>\n",
       "      <th></th>\n",
       "      <th></th>\n",
       "      <th></th>\n",
       "    </tr>\n",
       "  </thead>\n",
       "  <tbody>\n",
       "    <tr>\n",
       "      <th>2014-10-01</th>\n",
       "      <td>91.0073</td>\n",
       "      <td>41.0882</td>\n",
       "      <td>566.7141</td>\n",
       "    </tr>\n",
       "    <tr>\n",
       "      <th>2014-10-02</th>\n",
       "      <td>91.6679</td>\n",
       "      <td>40.9629</td>\n",
       "      <td>568.5191</td>\n",
       "    </tr>\n",
       "    <tr>\n",
       "      <th>2014-10-03</th>\n",
       "      <td>91.4110</td>\n",
       "      <td>41.2583</td>\n",
       "      <td>573.7049</td>\n",
       "    </tr>\n",
       "    <tr>\n",
       "      <th>2014-10-06</th>\n",
       "      <td>91.4110</td>\n",
       "      <td>41.2583</td>\n",
       "      <td>575.7692</td>\n",
       "    </tr>\n",
       "    <tr>\n",
       "      <th>2014-10-07</th>\n",
       "      <td>90.6127</td>\n",
       "      <td>40.7570</td>\n",
       "      <td>562.1965</td>\n",
       "    </tr>\n",
       "  </tbody>\n",
       "</table>\n",
       "</div>"
      ],
      "text/plain": [
       "               AAPL     MSFT      GOOG\n",
       "index                                 \n",
       "2014-10-01  91.0073  41.0882  566.7141\n",
       "2014-10-02  91.6679  40.9629  568.5191\n",
       "2014-10-03  91.4110  41.2583  573.7049\n",
       "2014-10-06  91.4110  41.2583  575.7692\n",
       "2014-10-07  90.6127  40.7570  562.1965"
      ]
     },
     "execution_count": 207,
     "metadata": {},
     "output_type": "execute_result"
    }
   ],
   "source": [
    "start_date = '2014-10-01'\n",
    "end_date = '2019-11-01'\n",
    "price = price.loc[start_date:end_date]\n",
    "price.head()"
   ]
  },
  {
   "cell_type": "code",
   "execution_count": 208,
   "metadata": {},
   "outputs": [
    {
     "data": {
      "text/plain": [
       "'symbol GOOGFG not found'"
      ]
     },
     "execution_count": 208,
     "metadata": {},
     "output_type": "execute_result"
    }
   ],
   "source": [
    "symbols = ['GOOGFG']\n",
    "start_date = '2014-10-01'\n",
    "end_date = '2019-11-01'\n",
    "getAllPriceData(symbols,start_date,end_date)"
   ]
  },
  {
   "cell_type": "code",
   "execution_count": null,
   "metadata": {},
   "outputs": [],
   "source": []
  }
 ],
 "metadata": {
  "kernelspec": {
   "display_name": "Python 3",
   "language": "python",
   "name": "python3"
  },
  "language_info": {
   "codemirror_mode": {
    "name": "ipython",
    "version": 3
   },
   "file_extension": ".py",
   "mimetype": "text/x-python",
   "name": "python",
   "nbconvert_exporter": "python",
   "pygments_lexer": "ipython3",
   "version": "3.6.4"
  }
 },
 "nbformat": 4,
 "nbformat_minor": 2
}
